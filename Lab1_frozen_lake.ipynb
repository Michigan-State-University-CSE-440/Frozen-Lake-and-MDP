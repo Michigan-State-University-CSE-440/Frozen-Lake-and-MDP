{
  "cells": [
    {
      "cell_type": "markdown",
      "metadata": {
        "id": "xvxZfmwuv7Fe"
      },
      "source": [
        "# Lab 1: Introduction of Frozen Lake\n",
        "In this semester's lab on reinforcement learning, we will be using the [Frozen Lake](https://gymnasium.farama.org/environments/toy_text/frozen_lake/) environment. The Frozen Lake environment is a classic reinforcement learning problem commonly used for teaching and experimenting with RL algorithms. It is part of the [OpenAI Gym library](https://gymnasium.farama.org/) and is modeled after the grid world problem.\n",
        "\n",
        "In this environment, we need to start from a fixed point and bypass the ice holes we may encounter in order to reach the fixed end point and get the gift. At each position, we have four actions that can be performed next: walk up, walk down, walk left and walk right. If we fall into an ice hole, then the *current* round is over; on the other hand, if we reach the end, we will get one reward point."
      ]
    },
    {
      "cell_type": "markdown",
      "metadata": {
        "id": "EYUsHI8k2C7a"
      },
      "source": [
        "## Environment Setup"
      ]
    },
    {
      "cell_type": "code",
      "execution_count": 8,
      "metadata": {
        "colab": {
          "base_uri": "https://localhost:8080/",
          "height": 0
        },
        "id": "_RGDRPK28PI7",
        "outputId": "2133b276-6d01-4cf7-8733-b348ae93c43d"
      },
      "outputs": [
        {
          "name": "stdout",
          "output_type": "stream",
          "text": [
            "Defaulting to user installation because normal site-packages is not writeable\n",
            "Requirement already satisfied: numpy in /Users/wlguo/Library/Python/3.9/lib/python/site-packages (1.24.2)\n",
            "\u001b[33mWARNING: You are using pip version 21.2.4; however, version 24.3.1 is available.\n",
            "You should consider upgrading via the '/Library/Developer/CommandLineTools/usr/bin/python3 -m pip install --upgrade pip' command.\u001b[0m\n",
            "Defaulting to user installation because normal site-packages is not writeable\n",
            "Requirement already satisfied: gymnasium in /Users/wlguo/Library/Python/3.9/lib/python/site-packages (0.27.1)\n",
            "Requirement already satisfied: importlib-metadata>=4.8.0 in /Library/Python/3.9/site-packages (from gymnasium) (6.0.0)\n",
            "Requirement already satisfied: typing-extensions>=4.3.0 in /Users/wlguo/Library/Python/3.9/lib/python/site-packages (from gymnasium) (4.5.0)\n",
            "Requirement already satisfied: cloudpickle>=1.2.0 in /Users/wlguo/Library/Python/3.9/lib/python/site-packages (from gymnasium) (2.2.1)\n",
            "Requirement already satisfied: gymnasium-notices>=0.0.1 in /Users/wlguo/Library/Python/3.9/lib/python/site-packages (from gymnasium) (0.0.1)\n",
            "Requirement already satisfied: jax-jumpy>=0.2.0 in /Users/wlguo/Library/Python/3.9/lib/python/site-packages (from gymnasium) (0.2.0)\n",
            "Requirement already satisfied: numpy>=1.21.0 in /Users/wlguo/Library/Python/3.9/lib/python/site-packages (from gymnasium) (1.24.2)\n",
            "Requirement already satisfied: zipp>=0.5 in /Library/Python/3.9/site-packages (from importlib-metadata>=4.8.0->gymnasium) (3.11.0)\n",
            "\u001b[33mWARNING: You are using pip version 21.2.4; however, version 24.3.1 is available.\n",
            "You should consider upgrading via the '/Library/Developer/CommandLineTools/usr/bin/python3 -m pip install --upgrade pip' command.\u001b[0m\n",
            "Defaulting to user installation because normal site-packages is not writeable\n",
            "Requirement already satisfied: Pillow in /Users/wlguo/Library/Python/3.9/lib/python/site-packages (9.4.0)\n",
            "\u001b[33mWARNING: You are using pip version 21.2.4; however, version 24.3.1 is available.\n",
            "You should consider upgrading via the '/Library/Developer/CommandLineTools/usr/bin/python3 -m pip install --upgrade pip' command.\u001b[0m\n",
            "Defaulting to user installation because normal site-packages is not writeable\n",
            "Requirement already satisfied: ipython in /Library/Python/3.9/site-packages (8.8.0)\n",
            "Requirement already satisfied: stack-data in /Library/Python/3.9/site-packages (from ipython) (0.6.2)\n",
            "Requirement already satisfied: traitlets>=5 in /Library/Python/3.9/site-packages (from ipython) (5.8.1)\n",
            "Requirement already satisfied: appnope in /Library/Python/3.9/site-packages (from ipython) (0.1.3)\n",
            "Requirement already satisfied: prompt-toolkit<3.1.0,>=3.0.11 in /Library/Python/3.9/site-packages (from ipython) (3.0.36)\n",
            "Requirement already satisfied: decorator in /Library/Python/3.9/site-packages (from ipython) (5.1.1)\n",
            "Requirement already satisfied: pexpect>4.3 in /Library/Python/3.9/site-packages (from ipython) (4.8.0)\n",
            "Requirement already satisfied: pygments>=2.4.0 in /Library/Python/3.9/site-packages (from ipython) (2.14.0)\n",
            "Requirement already satisfied: matplotlib-inline in /Library/Python/3.9/site-packages (from ipython) (0.1.6)\n",
            "Requirement already satisfied: pickleshare in /Library/Python/3.9/site-packages (from ipython) (0.7.5)\n",
            "Requirement already satisfied: backcall in /Library/Python/3.9/site-packages (from ipython) (0.2.0)\n",
            "Requirement already satisfied: jedi>=0.16 in /Library/Python/3.9/site-packages (from ipython) (0.18.2)\n",
            "Requirement already satisfied: parso<0.9.0,>=0.8.0 in /Library/Python/3.9/site-packages (from jedi>=0.16->ipython) (0.8.3)\n",
            "Requirement already satisfied: ptyprocess>=0.5 in /Library/Python/3.9/site-packages (from pexpect>4.3->ipython) (0.7.0)\n",
            "Requirement already satisfied: wcwidth in /Library/Python/3.9/site-packages (from prompt-toolkit<3.1.0,>=3.0.11->ipython) (0.2.6)\n",
            "Requirement already satisfied: asttokens>=2.1.0 in /Library/Python/3.9/site-packages (from stack-data->ipython) (2.2.1)\n",
            "Requirement already satisfied: executing>=1.2.0 in /Library/Python/3.9/site-packages (from stack-data->ipython) (1.2.0)\n",
            "Requirement already satisfied: pure-eval in /Library/Python/3.9/site-packages (from stack-data->ipython) (0.2.2)\n",
            "Requirement already satisfied: six in /Library/Developer/CommandLineTools/Library/Frameworks/Python3.framework/Versions/3.9/lib/python3.9/site-packages (from asttokens>=2.1.0->stack-data->ipython) (1.15.0)\n",
            "\u001b[33mWARNING: You are using pip version 21.2.4; however, version 24.3.1 is available.\n",
            "You should consider upgrading via the '/Library/Developer/CommandLineTools/usr/bin/python3 -m pip install --upgrade pip' command.\u001b[0m\n",
            "Defaulting to user installation because normal site-packages is not writeable\n",
            "Requirement already satisfied: pygame in /Users/wlguo/Library/Python/3.9/lib/python/site-packages (2.1.3)\n",
            "\u001b[33mWARNING: You are using pip version 21.2.4; however, version 24.3.1 is available.\n",
            "You should consider upgrading via the '/Library/Developer/CommandLineTools/usr/bin/python3 -m pip install --upgrade pip' command.\u001b[0m\n"
          ]
        }
      ],
      "source": [
        "import os\n",
        "# You will need numpy and gym. You can try running the following lines to install them\n",
        "# The assignment is tested on Python3.8 so in case you are having installation issues you might\n",
        "# want to try installing that version.\n",
        "\n",
        "!{os.sys.executable} -m pip install numpy\n",
        "!{os.sys.executable} -m pip install gymnasium\n",
        "!{os.sys.executable} -m pip install Pillow\n",
        "!{os.sys.executable} -m pip install ipython\n",
        "!{os.sys.executable} -m pip install pygame\n",
        "\n",
        "import gymnasium as gym\n",
        "import numpy as np\n",
        "import random\n",
        "from PIL import Image\n",
        "from IPython.display import display\n"
      ]
    },
    {
      "cell_type": "code",
      "execution_count": 9,
      "metadata": {
        "colab": {
          "base_uri": "https://localhost:8080/",
          "height": 0
        },
        "id": "VjtBznjE9PKx",
        "outputId": "25175048-9684-486e-ec4e-4de620ddd925"
      },
      "outputs": [
        {
          "name": "stdout",
          "output_type": "stream",
          "text": [
            "Number of States 16, Number of Actions 4\n",
            "Reward range (0, 1)\n"
          ]
        }
      ],
      "source": [
        "# Import the environment we will use in this assignment\n",
        "env=gym.make('FrozenLake-v1',is_slippery=False, render_mode=\"rgb_array\").unwrapped\n",
        "\n",
        "# Show the model\n",
        "print(f\"Number of States {env.observation_space.n}, Number of Actions {env.action_space.n}\")\n",
        "print(f\"Reward range {env.reward_range}\")"
      ]
    },
    {
      "cell_type": "markdown",
      "metadata": {
        "id": "EdZYuiwi376T"
      },
      "source": [
        "## Examples\n",
        "In this section, we show two examples to help you get familiar with the environment. There is no task you need to finish.\n",
        "\n"
      ]
    },
    {
      "cell_type": "code",
      "execution_count": 10,
      "metadata": {
        "colab": {
          "base_uri": "https://localhost:8080/",
          "height": 273
        },
        "id": "sPs5SLGH9VAW",
        "outputId": "aade5ea7-03c1-4265-9b1e-977c0d0b4148"
      },
      "outputs": [
        {
          "data": {
            "image/png": "[encoded data removed]",
            "text/plain": [
              "<PIL.Image.Image image mode=RGB size=256x256>"
            ]
          },
          "metadata": {},
          "output_type": "display_data"
        }
      ],
      "source": [
        "# reset the environment\n",
        "env.reset()\n",
        "# visualize the current state\n",
        "display(Image.fromarray(env.render()))"
      ]
    },
    {
      "cell_type": "markdown",
      "metadata": {
        "id": "T93AIZeQ46Iu"
      },
      "source": [
        "Here is the mapping between actions and indices:\n",
        "```\n",
        "0: Move left\n",
        "1: Move do\n",
        "2: Move right\n",
        "3: Move up\n",
        "```"
      ]
    },
    {
      "cell_type": "code",
      "execution_count": 11,
      "metadata": {
        "colab": {
          "base_uri": "https://localhost:8080/",
          "height": 308
        },
        "id": "_vCGU6lh9wGL",
        "outputId": "694e49a0-bbd7-43ce-c57a-253e40fc77d5"
      },
      "outputs": [
        {
          "name": "stdout",
          "output_type": "stream",
          "text": [
            "state index= 4 reward= 0.0 is_finished= False\n",
            "state index= 8 reward= 0.0 is_finished= False\n"
          ]
        },
        {
          "data": {
            "image/png": "[encoded data removed]",
            "text/plain": [
              "<PIL.Image.Image image mode=RGB size=256x256>"
            ]
          },
          "metadata": {},
          "output_type": "display_data"
        }
      ],
      "source": [
        "# this is an example showing how to control the player to walk in a given direction\n",
        "# remember always reset the environment before a new round to ensure start from the beginning\n",
        "env.reset()\n",
        "action_1 = 1 # move down\n",
        "state, reward, finished, _, _ = env.step(action_1) # input the action instruction to env\n",
        "print(\"state index=\", state, \"reward=\", reward, \"is_finished=\", finished)\n",
        "\n",
        "action_2 = 1 # move down again\n",
        "state, reward, finished, _, _ = env.step(action_2) # input the action instruction to env\n",
        "print(\"state index=\", state, \"reward=\", reward, \"is_finished=\", finished)\n",
        "\n",
        "# display the environment state\n",
        "display(Image.fromarray(env.render()))"
      ]
    },
    {
      "cell_type": "code",
      "execution_count": 12,
      "metadata": {
        "colab": {
          "base_uri": "https://localhost:8080/",
          "height": 342
        },
        "id": "iQK6OfvE9wVY",
        "outputId": "9f0e9c5d-f8ee-4bd4-e3bf-952650bf4cda"
      },
      "outputs": [
        {
          "name": "stdout",
          "output_type": "stream",
          "text": [
            "state index= 1 reward= 0.0 is_finished= False\n",
            "state index= 2 reward= 0.0 is_finished= False\n",
            "state index= 3 reward= 0.0 is_finished= False\n",
            "state index= 7 reward= 0.0 is_finished= True\n"
          ]
        },
        {
          "data": {
            "image/png": "[encoded data removed]",
            "text/plain": [
              "<PIL.Image.Image image mode=RGB size=256x256>"
            ]
          },
          "metadata": {},
          "output_type": "display_data"
        }
      ],
      "source": [
        "# this is another example showing what will happen if player falling into the ice hole\n",
        "# in this example, we will take the advantage of the Python feature by using foor loop\n",
        "env.reset()\n",
        "actions = [\n",
        "    2, # move right\n",
        "    2, # move right\n",
        "    2, # move right\n",
        "    1, # move down\n",
        "]\n",
        "for action in actions:\n",
        "  state, reward, finished, _, _ = env.step(action) # input the action instruction to env\n",
        "  print(\"state index=\", state, \"reward=\", reward, \"is_finished=\", finished)\n",
        "# display the env state\n",
        "display(Image.fromarray(env.render()))"
      ]
    },
    {
      "cell_type": "markdown",
      "metadata": {
        "id": "P7KrEV9Kp4pf"
      },
      "source": [
        "## Task 1\n",
        "Now it's your turn to avoid all the ice holes and get the gift. You only need to give one path to reach the end. You are encouraged to use for loop, but it's not required.\n",
        "\n",
        "Remember to **reset the environment before everything starts**!"
      ]
    },
    {
      "cell_type": "code",
      "execution_count": null,
      "metadata": {
        "colab": {
          "base_uri": "https://localhost:8080/",
          "height": 394
        },
        "id": "99eR1ULuCXvr",
        "outputId": "b048112f-8cfa-4df6-d06f-e6b451b3891d"
      },
      "outputs": [],
      "source": [
        "################# TO DO #####################\n",
        "\n",
        "#############################################\n",
        "display(Image.fromarray(env.render()))"
      ]
    },
    {
      "cell_type": "markdown",
      "metadata": {
        "id": "IO5HZA3cqVFX"
      },
      "source": [
        "## Task 2\n",
        "In the above examples, we have assumed that the whole map is known, but in a more realistic scenario, we would not know the exact location of the ice hole when we are at the starting point.\n",
        "\n",
        "This time we'll take a random walk on the map, and see what happens. Please note that the system will automatically make you stay if gonna walking beyond the boundaries, so **don't worry about the boundary problem**!"
      ]
    },
    {
      "cell_type": "code",
      "execution_count": null,
      "metadata": {
        "id": "2dfoHSaJ9WbI"
      },
      "outputs": [],
      "source": [
        "env.reset()\n",
        "num_actions = 25 # you can try other numbers\n",
        "for i in range(num_actions):\n",
        "    # Sample Random Action\n",
        "    # Consider using the random.randint function from the Python random library,\n",
        "    # or the env.action_space.sample() function included in the env.\n",
        "\n",
        "    ################# TO DO #####################\n",
        "    a = # TODO\n",
        "    #############################################\n",
        "\n",
        "    state, reward, finished, _, _ = env.step(a)\n",
        "    if finished is True:\n",
        "      break\n",
        "\n",
        "print(f'Render State after {num_actions} slots')\n",
        "display(Image.fromarray(env.render()))\n",
        "print(f'Reached terminal state? {finished}')\n"
      ]
    },
    {
      "cell_type": "markdown",
      "metadata": {
        "id": "Al8mEshWqUfE"
      },
      "source": [
        "## Task 3\n",
        "In a more complex setting, we introduce the concept of slippery. This means that there is only a 1/3 probability that you will move in the specified direction, and a 1/3 probability that you will slide vertically up or down, respectively. For example, if you want to walk to the right, then\n",
        "```\n",
        "P(move right) = 1/3\n",
        "P(move up) = 1/3\n",
        "P(move down) = 1/3\n",
        "```\n",
        "In this task, you need to re-execute the actions in Task 1 to see if you can still end up with the gift. You **don't have to get the gift**, but we expect you to be aware of the effect of randomness on the policy (i.e., action plan).\n"
      ]
    },
    {
      "cell_type": "code",
      "execution_count": null,
      "metadata": {
        "id": "ZcIZEqZnupmP"
      },
      "outputs": [],
      "source": [
        "# load the environmet in new setting\n",
        "env=gym.make('FrozenLake-v1',is_slippery=True, render_mode=\"rgb_array\").unwrapped"
      ]
    },
    {
      "cell_type": "code",
      "execution_count": null,
      "metadata": {
        "id": "2YZnmVgspsb6"
      },
      "outputs": [],
      "source": [
        "################# TO DO #####################\n",
        "\n",
        "#############################################\n",
        "display(Image.fromarray(env.render()))"
      ]
    }
  ],
  "metadata": {
    "colab": {
      "provenance": []
    },
    "kernelspec": {
      "display_name": "Python 3",
      "name": "python3"
    },
    "language_info": {
      "codemirror_mode": {
        "name": "ipython",
        "version": 3
      },
      "file_extension": ".py",
      "mimetype": "text/x-python",
      "name": "python",
      "nbconvert_exporter": "python",
      "pygments_lexer": "ipython3",
      "version": "3.9.6"
    }
  },
  "nbformat": 4,
  "nbformat_minor": 0
}
